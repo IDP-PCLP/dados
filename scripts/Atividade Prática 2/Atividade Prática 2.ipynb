{
 "cells": [
  {
   "cell_type": "markdown",
   "id": "d11f6355",
   "metadata": {},
   "source": [
    "# Atividade Prática 2\n",
    "\n",
    "Nessa atividade, vamos explorar conjuntos de dados distintos e será seu trabalho descrever os conjuntos dados."
   ]
  },
  {
   "cell_type": "code",
   "execution_count": null,
   "id": "11d4a69b",
   "metadata": {},
   "outputs": [],
   "source": [
    "import pandas as pd\n",
    "\n",
    "dados1 = pd.read_csv('dados1.csv')\n",
    "dados2 = pd.read_csv('dados2.csv')\n",
    "dados3 = pd.read_csv('dados3.csv')"
   ]
  },
  {
   "cell_type": "code",
   "execution_count": null,
   "id": "eb13f20c",
   "metadata": {},
   "outputs": [],
   "source": [
    "# Realize uma análise descritiva dos dados\n",
    "# Deve conter as informações básicas do conjunto\n",
    "# Número de elementos\n",
    "# Nome e número de observações das colunas\n",
    "# Estatística descritiva: média, desvio-padrão, correlação\n",
    "dados1"
   ]
  },
  {
   "cell_type": "code",
   "execution_count": null,
   "id": "282ee1f0",
   "metadata": {},
   "outputs": [],
   "source": [
    "# Realize uma análise descritiva dos dados\n",
    "# Deve conter as informações básicas do conjunto\n",
    "# Número de elementos\n",
    "# Nome e número de observações das colunas\n",
    "# Estatística descritiva: média, desvio-padrão, correlação\n",
    "dados2"
   ]
  },
  {
   "cell_type": "code",
   "execution_count": null,
   "id": "9b08d699",
   "metadata": {},
   "outputs": [],
   "source": [
    "# Realize uma análise descritiva dos dados\n",
    "# Deve conter as informações básicas do conjunto\n",
    "# Número de elementos\n",
    "# Nome e número de observações das colunas\n",
    "# Estatística descritiva: média, desvio-padrão, correlação\n",
    "dados3"
   ]
  },
  {
   "cell_type": "code",
   "execution_count": null,
   "id": "430e9ec8",
   "metadata": {},
   "outputs": [],
   "source": [
    "# O que cada conjunto de dados representa?"
   ]
  },
  {
   "cell_type": "code",
   "execution_count": null,
   "id": "2570b5f1",
   "metadata": {},
   "outputs": [],
   "source": []
  }
 ],
 "metadata": {
  "kernelspec": {
   "display_name": "Python 3 (ipykernel)",
   "language": "python",
   "name": "python3"
  },
  "language_info": {
   "codemirror_mode": {
    "name": "ipython",
    "version": 3
   },
   "file_extension": ".py",
   "mimetype": "text/x-python",
   "name": "python",
   "nbconvert_exporter": "python",
   "pygments_lexer": "ipython3",
   "version": "3.9.7"
  }
 },
 "nbformat": 4,
 "nbformat_minor": 5
}
