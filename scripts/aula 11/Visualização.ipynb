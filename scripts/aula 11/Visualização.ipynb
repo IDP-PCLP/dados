{
 "cells": [
  {
   "cell_type": "markdown",
   "id": "ddf97f83",
   "metadata": {},
   "source": [
    "# Visualização de dados\n",
    "\n",
    "A visualização de dados é muito importante na análise exploratória de dados (Exploratory Data Analysis - EDA). Com visualizações podemos aprender sobre nossos dados de forma mais intuitiva e podemos identificar padrões que podem ser estudados quantitativamente posteriormente.\n",
    "\n",
    "Vamos estudar duas bibliotecas a princípio, mas todas elas funcionam de forma muito semelhante e em geral basta ler a documentação ou utilizar a função help() para obter ajuda nas funções que usamos para gerar os dados.\n",
    "\n",
    "Para o seaborn, usei esse estudo do Kaggle como inspiração: https://www.kaggle.com/code/balraj98/visualizing-the-space-race/notebook"
   ]
  },
  {
   "cell_type": "code",
   "execution_count": null,
   "id": "1ceec03f",
   "metadata": {},
   "outputs": [],
   "source": [
    "import pandas as pd\n",
    "import datetime\n",
    "import matplotlib.pyplot as plt\n",
    "import seaborn as sns\n",
    "sns.set_style(\"darkgrid\")"
   ]
  },
  {
   "cell_type": "code",
   "execution_count": null,
   "id": "6c80c218",
   "metadata": {},
   "outputs": [],
   "source": [
    "# Importe os dados do arquivo Space_Corrected.csv como um DataFrame\n",
    "dados = pd.read_csv('Space_Corrected.csv')\n",
    "dados.head()"
   ]
  },
  {
   "cell_type": "code",
   "execution_count": null,
   "id": "6017b669",
   "metadata": {},
   "outputs": [],
   "source": [
    "# A coluna Datum possui informações sobre a data de lançamento\n",
    "# Para transformar a data de texto para datetime e poder obter o ano, vamos utilizar a função to_datetime\n",
    "# Assim vamos obter o ano de cada lançamento e salvar em uma nova coluna\n",
    "dados['Ano'] = [i.year for i in pd.to_datetime(dados['Datum'])]\n",
    "# Obtenha quantos lançamentos foram realizados por ano e qual ano teve mais lançamentos\n",
    "por_ano = dados.groupby('Ano').count().sort_values('Ano',ascending=False)\n",
    "\n",
    "# O gráfico padrão da função plot() de um DataFrame é um gráfico de linhas.\n",
    "por_ano.plot()"
   ]
  },
  {
   "cell_type": "code",
   "execution_count": null,
   "id": "736a99c9",
   "metadata": {},
   "outputs": [],
   "source": [
    "# Um gráfico de barras pode ser obtido utilizando a função bar() do módulo plot\n",
    "por_ano[['Datum']][0:10].plot.bar()\n",
    "#help(pd.DataFrame.plot.bar)"
   ]
  },
  {
   "cell_type": "markdown",
   "id": "a25d8073",
   "metadata": {},
   "source": [
    "## Backends - Bibliotecas de Visualização\n",
    "\n",
    "Ao longo de nossa jornada de programação, vamos nos deparar com diferentes bibliotecas para realizar a mesma tarefa, então podemos mudar de acordo com nossas preferências. É comum se referir à biblioteca por detrás de nossos gráficos como backend. \n",
    "\n",
    "Todos os gráficos que fizemos até aqui usando o módulo plot da biblioteca Pandas, ou seja, direto do DataFrame que contém os dados, utiliza a biblioteca Matplotlib como backend. Isso quer dizer que o Pandas usa a Matplotlib para produzir seus gráficos. \n",
    "\n",
    "Aqui vamos produzir o mesmo gráfico utilizando uma biblioteca chamada Seaborn. Entenda que é possível obter gráficos de alta qualidade com ambas as bibliotecas, ou backends."
   ]
  },
  {
   "cell_type": "code",
   "execution_count": null,
   "id": "d9744ff6",
   "metadata": {},
   "outputs": [],
   "source": [
    "# Para produzir nosso gráfico, começamos com \n",
    "# uma figura Matplotlib que vamos preencher com \n",
    "# nosso gráfico Seaborn\n",
    "plt.figure(figsize=(8,18)) # nova figura\n",
    "ax = sns.countplot(y=dados['Ano']) # gráfico de barras\n",
    "ax.axes.set_title(\"Year vs. # Launches\",fontsize=18) # título\n",
    "ax.set_xlabel(\"Year\",fontsize=16) # rótulos dos eixos x e y\n",
    "ax.set_ylabel(\"# Launches\",fontsize=16)\n",
    "ax.tick_params(labelsize=12) # tamanho da fonte dos rótulos\n",
    "plt.tight_layout() \n",
    "plt.show() # mostra o gráfico gerado\n",
    "\n"
   ]
  },
  {
   "cell_type": "code",
   "execution_count": null,
   "id": "9fc25051",
   "metadata": {},
   "outputs": [],
   "source": [
    "# O histograma permite visualizar o número de vezes que um valor se repete\n",
    "# também chamado frequência daquele valor.\n",
    "dados.plot.hist(bins=64)\n",
    "#help(pd.DataFrame.plot.bar)"
   ]
  },
  {
   "cell_type": "code",
   "execution_count": null,
   "id": "42a37b9f",
   "metadata": {},
   "outputs": [],
   "source": [
    "sns.histplot(data=dados,x = 'Ano',bins=64)"
   ]
  },
  {
   "cell_type": "code",
   "execution_count": null,
   "id": "ba1fed45",
   "metadata": {},
   "outputs": [],
   "source": [
    "\n",
    "# Determine quantos lançamentos foram bem sucedidos\n",
    "por_status = dados.groupby('Status Mission').count()\n",
    "\n",
    "# O gráfico de pizza chama-se pie() no Matplotlib :9\n",
    "por_status.plot.pie(y='Ano')\n",
    "por_status"
   ]
  },
  {
   "cell_type": "code",
   "execution_count": null,
   "id": "9a7eab63",
   "metadata": {},
   "outputs": [],
   "source": [
    "# Vamos agora obter como gráfico de barras\n",
    "\n",
    "plt.figure(figsize=(6,6))\n",
    "ax = sns.countplot(y=\"Status Mission\", data=dados, order=dados[\"Status Mission\"].value_counts().index, palette=\"Set2\")\n",
    "ax.set_xscale(\"log\")\n",
    "ax.axes.set_title(\"Mission Status vs. Count\",fontsize=18)\n",
    "ax.set_xlabel(\"Count\",fontsize=16)\n",
    "ax.set_ylabel(\"Mission Status\",fontsize=16)\n",
    "ax.tick_params(labelsize=12)\n",
    "plt.tight_layout()\n",
    "plt.show()\n",
    "\n"
   ]
  },
  {
   "cell_type": "code",
   "execution_count": null,
   "id": "9aa718a9",
   "metadata": {},
   "outputs": [],
   "source": [
    "\n",
    "\n",
    "plt.figure(figsize=(6,6))\n",
    "ax = sns.countplot(x=\"Status Rocket\", data=dados, order=dados[\"Status Rocket\"].value_counts().index, palette=\"pastel\")\n",
    "ax.axes.set_title(\"Rocket Status vs. Count\",fontsize=18)\n",
    "ax.set_xlabel(\"Count\",fontsize=16)\n",
    "ax.set_ylabel(\"Rocket Status\",fontsize=16)\n",
    "ax.tick_params(labelsize=12)\n",
    "plt.tight_layout()\n",
    "plt.show()\n",
    "\n"
   ]
  },
  {
   "cell_type": "code",
   "execution_count": null,
   "id": "054086e1",
   "metadata": {},
   "outputs": [],
   "source": [
    "ussr_status = dados[dados['Company Name'] == 'RVSN USSR'].groupby('Status Mission').count()\n",
    "ussr_status.plot.pie(y='Ano')\n",
    "ussr_status"
   ]
  },
  {
   "cell_type": "code",
   "execution_count": null,
   "id": "9ca0b973",
   "metadata": {},
   "outputs": [],
   "source": [
    "\n",
    "# Determine quantos lançamentos foram realizados por cada Company Name\n",
    "# Quantos lançamentos são brasileiros (Agência Espacial Brasileira - AEB)?\n",
    "por_compania = dados.groupby('Company Name').count()\n",
    "\n",
    "por_compania.plot.pie(y='Ano')"
   ]
  },
  {
   "cell_type": "code",
   "execution_count": null,
   "id": "d1c5ebf2",
   "metadata": {},
   "outputs": [],
   "source": [
    "plt.figure(figsize=(8,18))\n",
    "ax = sns.countplot(y=\"Company Name\", data=dados, order=dados[\"Company Name\"].value_counts().index)\n",
    "ax.set_xscale(\"log\")\n",
    "ax.axes.set_title(\"Company vs. # Launches (Log Scale)\",fontsize=18)\n",
    "ax.set_xlabel(\"Number of Launches (Log Scale)\",fontsize=16)\n",
    "ax.set_ylabel(\"Company Name\",fontsize=16)\n",
    "ax.tick_params(labelsize=12)\n",
    "plt.tight_layout()\n",
    "plt.show()"
   ]
  },
  {
   "cell_type": "code",
   "execution_count": null,
   "id": "7f7a157d",
   "metadata": {},
   "outputs": [],
   "source": [
    "dados[\"Country\"] = dados[\"Location\"].apply(lambda location: location.split(\", \")[-1])\n",
    "dados.head()\n",
    "\n",
    "\n",
    "plt.figure(figsize=(8,8))\n",
    "ax = sns.countplot(y=\"Country\", data=dados, order=dados[\"Country\"].value_counts().index)\n",
    "ax.set_xscale(\"log\")\n",
    "ax.axes.set_title(\"Country vs. # Launches (Log Scale)\",fontsize=18)\n",
    "ax.set_xlabel(\"Number of Launches (Log Scale)\",fontsize=16)\n",
    "ax.set_ylabel(\"Country\",fontsize=16)\n",
    "ax.tick_params(labelsize=12)\n",
    "plt.tight_layout()\n",
    "plt.show()\n",
    "\n"
   ]
  }
 ],
 "metadata": {
  "kernelspec": {
   "display_name": "Python 3 (ipykernel)",
   "language": "python",
   "name": "python3"
  },
  "language_info": {
   "codemirror_mode": {
    "name": "ipython",
    "version": 3
   },
   "file_extension": ".py",
   "mimetype": "text/x-python",
   "name": "python",
   "nbconvert_exporter": "python",
   "pygments_lexer": "ipython3",
   "version": "3.9.7"
  }
 },
 "nbformat": 4,
 "nbformat_minor": 5
}
