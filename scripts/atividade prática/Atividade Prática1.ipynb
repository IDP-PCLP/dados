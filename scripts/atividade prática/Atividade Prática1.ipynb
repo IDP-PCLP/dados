{
 "cells": [
  {
   "cell_type": "markdown",
   "id": "ca5fd9db",
   "metadata": {},
   "source": [
    "# Atividade prática 1\n",
    "## Análise descritiva\n",
    "\n",
    "O objetivo dessa atividade prática é realizar uma análise descritiva de um novo conjunto de dados.\n",
    "\n",
    "O conjunto de dados escolhido está disponível na plataforma do canvas e no github do curso.\n",
    "\n",
    "### Instruções\n",
    "\n",
    "Para realizar a atividade, baixe o conjunto de dados e salve na mesma pasta que esse caderno. Execute a célula abaixo para importar os dados e escreva o código para responder as perguntas nos comentários das outras células. "
   ]
  },
  {
   "cell_type": "code",
   "execution_count": null,
   "id": "67cc4fa4",
   "metadata": {},
   "outputs": [],
   "source": [
    "# Importando os dados\n",
    "import pandas as pd\n",
    "\n",
    "dados = pd.read_csv('ds_salaries.csv')"
   ]
  },
  {
   "cell_type": "code",
   "execution_count": null,
   "id": "b96297d3",
   "metadata": {},
   "outputs": [],
   "source": [
    "# Informações básicas\n",
    "## Determine o número e nome das colunas do conjunto de dados\n",
    "\n",
    "## Determine o tipo de dado de cada coluna\n",
    "\n",
    "## Determine o número de observações do conjunto de dados\n",
    "\n",
    "## Determine os valores máximos e mínimos das colunas numéricas\n",
    "##e a amplitude desses dados\n"
   ]
  },
  {
   "cell_type": "code",
   "execution_count": null,
   "id": "e3ed8584",
   "metadata": {},
   "outputs": [],
   "source": [
    "# Estatística descritiva\n",
    "## Obtenha a média e mediana das colunas numéricas\n",
    "\n",
    "## Obtenha o desvio-padrão\n"
   ]
  }
 ],
 "metadata": {
  "kernelspec": {
   "display_name": "Python 3 (ipykernel)",
   "language": "python",
   "name": "python3"
  },
  "language_info": {
   "codemirror_mode": {
    "name": "ipython",
    "version": 3
   },
   "file_extension": ".py",
   "mimetype": "text/x-python",
   "name": "python",
   "nbconvert_exporter": "python",
   "pygments_lexer": "ipython3",
   "version": "3.9.7"
  }
 },
 "nbformat": 4,
 "nbformat_minor": 5
}
