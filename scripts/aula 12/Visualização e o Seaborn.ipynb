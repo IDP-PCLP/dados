{
 "cells": [
  {
   "cell_type": "markdown",
   "id": "4264d9d6",
   "metadata": {},
   "source": [
    "# Seaborn e Matplotlib\n",
    "\n",
    "Assim como o Pandas expande as funcionalidades no Numpy para implementar funcionalidades de obtenção, análise e processamento de dados, o Seaborn expande as funcionalidades do Matplotlib, que viemos usando nas últimas semanas. \n",
    "\n",
    "Ao invés de implementar novas funcionalidades, o Seaborn na maior parte do tempo está utilizando as funções do Matplotlib diretamente, apenas passando uma série de argumentos que não é passada por padrão. O Seaborn facilita, portanto, a obtenção de gráficos de alta qualidade passando menos argumentos.\n",
    "\n",
    "Recursos: \n",
    "- \"Cola\" do Seaborn - Cheat Sheet: Seaborn Charts\n",
    "https://www.kaggle.com/code/themlphdstudent/cheat-sheet-seaborn-charts\n",
    "\n",
    "- Seaborn é o Matplotlib mais fácil - Neural Nine\n",
    "https://www.youtube.com/watch?v=ooqXQ37XHMM\n",
    "\n",
    "- Galeria de exemplos do Seaborn\n",
    "https://seaborn.pydata.org/examples/index.html\n",
    "\n",
    "## Conjuntos de dados\n",
    "\n",
    "### Tips\n",
    "\n",
    "Contém dados sobre gorjetas em um restaurante de um shopping estadunidense nos anos 90. O conjunto possui colunas sobre a conta, a gorjeta, o sexo do cliente, se pediu para sentar numa mesa de fumantes, o dia da semana, a hora do dia e o tamanho da mesa, ou seja, o número de clientes na mesa.\n",
    "\n",
    "### Titanic\n",
    "\n",
    "Esse conjunto descreve os passageiros que estavam a bordo do Titanic e é um bom conjunto para estudar a probabilidade de sobrevivência dos passageiros."
   ]
  },
  {
   "cell_type": "code",
   "execution_count": null,
   "id": "fcf86fda",
   "metadata": {},
   "outputs": [],
   "source": [
    "# Primeiro vamos importar nossas bibliotecas e carregar os conjuntos de dados\n",
    "import numpy as np\n",
    "import pandas as pd\n",
    "import matplotlib.pyplot as plt\n",
    "import seaborn as sns\n",
    "# Podemos controlar o estilo que queremos para nosso gráfico\n",
    "sns.set_style('darkgrey')\n",
    "# Veja a lista de estilos: white, dark, whitegrid, darkgrid, ticks \n",
    "# Controlando a estética: https://seaborn.pydata.org/tutorial/aesthetics.html\n",
    "\n",
    "# Vamos ver quais conjuntos de dados (datasets)\n",
    "# estão disponíveis no Seaborn\n",
    "print(sns.get_dataset_names())\n",
    "# Os conjuntos podem ser carregados com a função load_dataset() do Seaborn\n",
    "tips = sns.load_dataset('tips')\n",
    "titanic = sns.load_dataset('titanic')"
   ]
  },
  {
   "cell_type": "code",
   "execution_count": null,
   "id": "47cc2d84",
   "metadata": {},
   "outputs": [],
   "source": [
    "# Vamos começar estudando o conjunto tips\n",
    "# Esse conjunto possui informações sobre gorjetas\n",
    "# Podemos ver através da função type() que o conjunto\n",
    "# de dados foi carregado como um DataFrame.\n",
    "# O Seaborn foi feito com o Matplotlib para ter boa interface com o Pandas.\n",
    "type(tips)"
   ]
  },
  {
   "cell_type": "code",
   "execution_count": null,
   "id": "48814f17",
   "metadata": {},
   "outputs": [],
   "source": [
    "# Vamos analisar as colunas do conjunto de dados\n",
    "# Vamos visualizar algumas linhas com a função head() do DataFrame\n",
    "tips.head()"
   ]
  },
  {
   "cell_type": "code",
   "execution_count": null,
   "id": "d2cd3ae4",
   "metadata": {
    "scrolled": true
   },
   "outputs": [],
   "source": [
    "tips.columns"
   ]
  },
  {
   "cell_type": "code",
   "execution_count": null,
   "id": "e6f6187d",
   "metadata": {},
   "outputs": [],
   "source": [
    "# Visualização\n",
    "\n",
    "# Para estudar esse conjunto de dados, apenas obter\n",
    "# as informações estatísticas pode ser difícil\n",
    "# e tedioso. Vamos utilizar visualizações para obter insights.\n",
    "\n",
    "# É possível acessar as funções do seaborn diretamente pelo Pandas.\n",
    "# Essa forma de obter gráficos utilizamos durante o semestre todo.\n",
    "# Acessamos essas funcionalidades pela função plot do DataFrame\n",
    "tips.plot()"
   ]
  },
  {
   "cell_type": "code",
   "execution_count": null,
   "id": "83b5ff5c",
   "metadata": {},
   "outputs": [],
   "source": [
    "# Podemos acessar os tipos diferentes de gráficos por seus nomes\n",
    "# Para fazer um gráfico de espalhamento, vamos utilizar\n",
    "# a função scatter() do módulo plot do DataFrame \n",
    "# Note que agora é necessário passar os valores de x e y\n",
    "\n",
    "tips.plot.scatter(x='tip',y='total_bill')"
   ]
  },
  {
   "cell_type": "code",
   "execution_count": null,
   "id": "c92b91d8",
   "metadata": {},
   "outputs": [],
   "source": [
    "# Para utilizar o Seaborn diretamente, utilize a função scatter\n",
    "# do Seaborn e passe o argumento data, que deve receber o conjunto de dados\n",
    "\n",
    "sns.scatterplot(x='tip',y='total_bill',data=tips)"
   ]
  },
  {
   "cell_type": "code",
   "execution_count": null,
   "id": "d72ccd03",
   "metadata": {},
   "outputs": [],
   "source": [
    "# Existem vantagens em se utilizar o módulo diretamente\n",
    "# como maior controle dos argumentos.\n",
    "\n",
    "# Uma das facilidades que o Seaborn proporciona em comparação\n",
    "# ao Matplotlib é a passagem de argumentos para separar as cores\n",
    "# de um gráfico com relação ao \n",
    "\n",
    "sns.scatterplot(x='tip',y='total_bill',data=tips,hue='day')"
   ]
  },
  {
   "cell_type": "code",
   "execution_count": null,
   "id": "045169a3",
   "metadata": {},
   "outputs": [],
   "source": [
    "sns.scatterplot(x='tip',y='total_bill',data=tips,hue='sex')\n"
   ]
  },
  {
   "cell_type": "code",
   "execution_count": null,
   "id": "1982647d",
   "metadata": {},
   "outputs": [],
   "source": [
    "sns.scatterplot(x='tip',y='total_bill',data=tips,hue='sex',size='size')\n"
   ]
  },
  {
   "cell_type": "code",
   "execution_count": null,
   "id": "d79039bf",
   "metadata": {},
   "outputs": [],
   "source": [
    "sns.scatterplot(x='tip',y='size',data=tips,hue='sex',size='total_bill')"
   ]
  },
  {
   "cell_type": "code",
   "execution_count": null,
   "id": "7c2be576",
   "metadata": {},
   "outputs": [],
   "source": [
    "# Outro gráfico muito utilizado é o de barras. \n",
    "\n",
    "# Podemos fazer o gráfico com a função bar do módulo plot do DataFrame:\n",
    "tips.plot.bar()"
   ]
  },
  {
   "cell_type": "code",
   "execution_count": null,
   "id": "10b6f6a2",
   "metadata": {},
   "outputs": [],
   "source": [
    "help(plt.bar)"
   ]
  },
  {
   "cell_type": "code",
   "execution_count": null,
   "id": "e9695da2",
   "metadata": {},
   "outputs": [],
   "source": [
    "# Também podemos utilizar o Matplotlib para fazer um gráfico de barras\n",
    "plt.bar(x=np.arange(len(tips)),height=tips['total_bill'])\n",
    "plt.ylabel('valor total da conta')\n",
    "plt.show()"
   ]
  },
  {
   "cell_type": "code",
   "execution_count": null,
   "id": "42e36076",
   "metadata": {},
   "outputs": [],
   "source": [
    "# Mas os gráficos de barra do Seaborn são obtidos muito mais facilmente\n",
    "sns.barplot(x='sex',y='total_bill',data=tips)"
   ]
  },
  {
   "cell_type": "code",
   "execution_count": null,
   "id": "0895d5ee",
   "metadata": {},
   "outputs": [],
   "source": [
    "sns.barplot(x='day',y='total_bill',data=tips)"
   ]
  },
  {
   "cell_type": "code",
   "execution_count": null,
   "id": "3c9310f8",
   "metadata": {},
   "outputs": [],
   "source": [
    "sns.barplot(x='day',y='total_bill',data=tips,hue='sex')"
   ]
  },
  {
   "cell_type": "code",
   "execution_count": null,
   "id": "1e23f16e",
   "metadata": {},
   "outputs": [],
   "source": [
    "# Também estudamos o Histograma, em que queremos estudar \n",
    "# o número de vezes que uma certa instância repetiu seu valor.\n",
    "\n",
    "sns.histplot(tips['tip'])"
   ]
  },
  {
   "cell_type": "code",
   "execution_count": null,
   "id": "5a437441",
   "metadata": {},
   "outputs": [],
   "source": [
    "# É possível obter regressões utilizando uma curva de densidade de probabilidade\n",
    "sns.histplot(tips['tip'],kde=True)"
   ]
  },
  {
   "cell_type": "code",
   "execution_count": null,
   "id": "3731fb0c",
   "metadata": {},
   "outputs": [],
   "source": [
    "sns.histplot(tips['tip'],kde=True,bins=15)\n"
   ]
  },
  {
   "cell_type": "code",
   "execution_count": null,
   "id": "31fb5d08",
   "metadata": {},
   "outputs": [],
   "source": [
    "# Um gráfico importante é o Box Plot\n",
    "sns.boxplot(x='day',y='tip',data=tips)"
   ]
  },
  {
   "cell_type": "code",
   "execution_count": null,
   "id": "7e01676b",
   "metadata": {},
   "outputs": [],
   "source": [
    "# Podemos representar mais quantis com a função boxenplot\n",
    "\n",
    "sns.boxenplot(x='day',y='tip',data=tips)"
   ]
  },
  {
   "cell_type": "code",
   "execution_count": null,
   "id": "62c18eda",
   "metadata": {},
   "outputs": [],
   "source": [
    "# É possível realizar agrupamentos facilmente passando parâmetros como hue\n",
    "sns.boxplot(x='day',y='tip',data=tips,hue='sex')"
   ]
  },
  {
   "cell_type": "code",
   "execution_count": null,
   "id": "5e8f3553",
   "metadata": {},
   "outputs": [],
   "source": [
    "# Por fim, outro gráfico interessante de distribuição é o Strip Plot\n",
    "\n",
    "sns.stripplot(x='day',y='tip',data=tips)"
   ]
  },
  {
   "cell_type": "code",
   "execution_count": null,
   "id": "1ed0cf2c",
   "metadata": {},
   "outputs": [],
   "source": [
    "# Um Joint Plot junta o strip com o histograma \n",
    "\n",
    "sns.jointplot(x='day',y='tip',data=tips)"
   ]
  },
  {
   "cell_type": "code",
   "execution_count": null,
   "id": "3d1490a3",
   "metadata": {},
   "outputs": [],
   "source": [
    "# E também pode apresentar curvas de probabilidade\n",
    "\n",
    "sns.jointplot(x='tip',y='total_bill',data=tips,kind='reg')"
   ]
  },
  {
   "cell_type": "code",
   "execution_count": null,
   "id": "d8f0ba4c",
   "metadata": {},
   "outputs": [],
   "source": [
    "# Para estudar correlação, vamos abrir o conjunto do Titanic\n",
    "\n",
    "titanic.head()"
   ]
  },
  {
   "cell_type": "code",
   "execution_count": null,
   "id": "10e4401b",
   "metadata": {},
   "outputs": [],
   "source": [
    "# Vamos procurar por correlações entre as variáveis com a função corr() do DataFrame\n",
    "correlacao = titanic.corr()\n",
    "correlacao"
   ]
  },
  {
   "cell_type": "code",
   "execution_count": null,
   "id": "46bc2306",
   "metadata": {},
   "outputs": [],
   "source": [
    "# É possível visualizar essa distribuição com um Mapa de Calor\n",
    "# ou heatmap. Esse tipo de gráfico é muito comum e pode ajudar a \n",
    "# interpretar dados tabulares.\n",
    "\n",
    "sns.heatmap(correlacao,annot=True)"
   ]
  }
 ],
 "metadata": {
  "kernelspec": {
   "display_name": "Python 3 (ipykernel)",
   "language": "python",
   "name": "python3"
  },
  "language_info": {
   "codemirror_mode": {
    "name": "ipython",
    "version": 3
   },
   "file_extension": ".py",
   "mimetype": "text/x-python",
   "name": "python",
   "nbconvert_exporter": "python",
   "pygments_lexer": "ipython3",
   "version": "3.9.7"
  }
 },
 "nbformat": 4,
 "nbformat_minor": 5
}
